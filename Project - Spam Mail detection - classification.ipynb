{
 "cells": [
  {
   "cell_type": "markdown",
   "id": "4f1300e0",
   "metadata": {},
   "source": [
    "# Project - Spam mail detection"
   ]
  },
  {
   "cell_type": "markdown",
   "id": "995d3f40",
   "metadata": {},
   "source": [
    "#### 1. Import Libraries"
   ]
  },
  {
   "cell_type": "code",
   "execution_count": 1,
   "id": "d9c16586",
   "metadata": {},
   "outputs": [],
   "source": [
    "import pandas as pd                                       # to load data and many other operations\n",
    "from sklearn.feature_extraction.text import TfidfVectorizer     # text data into numbers , numerical form\n",
    "from sklearn.model_selection import train_test_split    # to split data into 4 parts , 2 train and 2 test\n",
    "from sklearn.linear_model import LogisticRegression    # our problem is classification problem\n",
    "from sklearn.metrics import accuracy_score            # to check accuracy of our model"
   ]
  },
  {
   "cell_type": "code",
   "execution_count": 2,
   "id": "40fedf33",
   "metadata": {},
   "outputs": [
    {
     "data": {
      "text/html": [
       "<div>\n",
       "<style scoped>\n",
       "    .dataframe tbody tr th:only-of-type {\n",
       "        vertical-align: middle;\n",
       "    }\n",
       "\n",
       "    .dataframe tbody tr th {\n",
       "        vertical-align: top;\n",
       "    }\n",
       "\n",
       "    .dataframe thead th {\n",
       "        text-align: right;\n",
       "    }\n",
       "</style>\n",
       "<table border=\"1\" class=\"dataframe\">\n",
       "  <thead>\n",
       "    <tr style=\"text-align: right;\">\n",
       "      <th></th>\n",
       "      <th>v1</th>\n",
       "      <th>v2</th>\n",
       "      <th>Unnamed: 2</th>\n",
       "      <th>Unnamed: 3</th>\n",
       "      <th>Unnamed: 4</th>\n",
       "    </tr>\n",
       "  </thead>\n",
       "  <tbody>\n",
       "    <tr>\n",
       "      <th>0</th>\n",
       "      <td>ham</td>\n",
       "      <td>Go until jurong point, crazy.. Available only ...</td>\n",
       "      <td>NaN</td>\n",
       "      <td>NaN</td>\n",
       "      <td>NaN</td>\n",
       "    </tr>\n",
       "    <tr>\n",
       "      <th>1</th>\n",
       "      <td>ham</td>\n",
       "      <td>Ok lar... Joking wif u oni...</td>\n",
       "      <td>NaN</td>\n",
       "      <td>NaN</td>\n",
       "      <td>NaN</td>\n",
       "    </tr>\n",
       "    <tr>\n",
       "      <th>2</th>\n",
       "      <td>spam</td>\n",
       "      <td>Free entry in 2 a wkly comp to win FA Cup fina...</td>\n",
       "      <td>NaN</td>\n",
       "      <td>NaN</td>\n",
       "      <td>NaN</td>\n",
       "    </tr>\n",
       "    <tr>\n",
       "      <th>3</th>\n",
       "      <td>ham</td>\n",
       "      <td>U dun say so early hor... U c already then say...</td>\n",
       "      <td>NaN</td>\n",
       "      <td>NaN</td>\n",
       "      <td>NaN</td>\n",
       "    </tr>\n",
       "    <tr>\n",
       "      <th>4</th>\n",
       "      <td>ham</td>\n",
       "      <td>Nah I don't think he goes to usf, he lives aro...</td>\n",
       "      <td>NaN</td>\n",
       "      <td>NaN</td>\n",
       "      <td>NaN</td>\n",
       "    </tr>\n",
       "  </tbody>\n",
       "</table>\n",
       "</div>"
      ],
      "text/plain": [
       "     v1                                                 v2 Unnamed: 2  \\\n",
       "0   ham  Go until jurong point, crazy.. Available only ...        NaN   \n",
       "1   ham                      Ok lar... Joking wif u oni...        NaN   \n",
       "2  spam  Free entry in 2 a wkly comp to win FA Cup fina...        NaN   \n",
       "3   ham  U dun say so early hor... U c already then say...        NaN   \n",
       "4   ham  Nah I don't think he goes to usf, he lives aro...        NaN   \n",
       "\n",
       "  Unnamed: 3 Unnamed: 4  \n",
       "0        NaN        NaN  \n",
       "1        NaN        NaN  \n",
       "2        NaN        NaN  \n",
       "3        NaN        NaN  \n",
       "4        NaN        NaN  "
      ]
     },
     "execution_count": 2,
     "metadata": {},
     "output_type": "execute_result"
    }
   ],
   "source": [
    "# Load dataset\n",
    "\n",
    "data = pd.read_csv('spam.csv', encoding='latin-1')     # to overcome 'utf -8' error\n",
    "\n",
    "# display top 5 rows\n",
    "\n",
    "data.head()"
   ]
  },
  {
   "cell_type": "code",
   "execution_count": 20,
   "id": "1649d91b",
   "metadata": {},
   "outputs": [],
   "source": [
    "# replace null values with null string \n",
    "\n",
    "# mail_data = data.where((pd.notnull(data)),'')"
   ]
  },
  {
   "cell_type": "code",
   "execution_count": 4,
   "id": "b06e0d11",
   "metadata": {},
   "outputs": [],
   "source": [
    "#mail_data.head()"
   ]
  },
  {
   "cell_type": "code",
   "execution_count": 24,
   "id": "efb78273",
   "metadata": {},
   "outputs": [],
   "source": [
    "data=mail_data.drop(columns = ['Unnamed: 2','Unnamed: 3','Unnamed: 4'], axis=1)   \n",
    "\n",
    "# removed columns, these are black columns and no use of this , so just drop it"
   ]
  },
  {
   "cell_type": "code",
   "execution_count": 25,
   "id": "f1b012d7",
   "metadata": {},
   "outputs": [
    {
     "data": {
      "text/html": [
       "<div>\n",
       "<style scoped>\n",
       "    .dataframe tbody tr th:only-of-type {\n",
       "        vertical-align: middle;\n",
       "    }\n",
       "\n",
       "    .dataframe tbody tr th {\n",
       "        vertical-align: top;\n",
       "    }\n",
       "\n",
       "    .dataframe thead th {\n",
       "        text-align: right;\n",
       "    }\n",
       "</style>\n",
       "<table border=\"1\" class=\"dataframe\">\n",
       "  <thead>\n",
       "    <tr style=\"text-align: right;\">\n",
       "      <th></th>\n",
       "      <th>v1</th>\n",
       "      <th>v2</th>\n",
       "    </tr>\n",
       "  </thead>\n",
       "  <tbody>\n",
       "    <tr>\n",
       "      <th>0</th>\n",
       "      <td>ham</td>\n",
       "      <td>Go until jurong point, crazy.. Available only ...</td>\n",
       "    </tr>\n",
       "    <tr>\n",
       "      <th>1</th>\n",
       "      <td>ham</td>\n",
       "      <td>Ok lar... Joking wif u oni...</td>\n",
       "    </tr>\n",
       "    <tr>\n",
       "      <th>2</th>\n",
       "      <td>spam</td>\n",
       "      <td>Free entry in 2 a wkly comp to win FA Cup fina...</td>\n",
       "    </tr>\n",
       "    <tr>\n",
       "      <th>3</th>\n",
       "      <td>ham</td>\n",
       "      <td>U dun say so early hor... U c already then say...</td>\n",
       "    </tr>\n",
       "    <tr>\n",
       "      <th>4</th>\n",
       "      <td>ham</td>\n",
       "      <td>Nah I don't think he goes to usf, he lives aro...</td>\n",
       "    </tr>\n",
       "  </tbody>\n",
       "</table>\n",
       "</div>"
      ],
      "text/plain": [
       "     v1                                                 v2\n",
       "0   ham  Go until jurong point, crazy.. Available only ...\n",
       "1   ham                      Ok lar... Joking wif u oni...\n",
       "2  spam  Free entry in 2 a wkly comp to win FA Cup fina...\n",
       "3   ham  U dun say so early hor... U c already then say...\n",
       "4   ham  Nah I don't think he goes to usf, he lives aro..."
      ]
     },
     "execution_count": 25,
     "metadata": {},
     "output_type": "execute_result"
    }
   ],
   "source": [
    "# print top 5 rows\n",
    "data.head()"
   ]
  },
  {
   "cell_type": "code",
   "execution_count": 26,
   "id": "0b6c3114",
   "metadata": {},
   "outputs": [
    {
     "data": {
      "text/plain": [
       "(5572, 2)"
      ]
     },
     "execution_count": 26,
     "metadata": {},
     "output_type": "execute_result"
    }
   ],
   "source": [
    "# check rows and columns of dataset\n",
    "\n",
    "data.shape"
   ]
  },
  {
   "cell_type": "markdown",
   "id": "9467fb19",
   "metadata": {},
   "source": [
    "## 2. data preprocessing"
   ]
  },
  {
   "cell_type": "markdown",
   "id": "d6861f8a",
   "metadata": {},
   "source": [
    "#### label encoding "
   ]
  },
  {
   "cell_type": "code",
   "execution_count": 28,
   "id": "49e9383b",
   "metadata": {},
   "outputs": [],
   "source": [
    "# encode our data v1 column into two category\n",
    "    #  0 : spam\n",
    " #  1 : ham"
   ]
  },
  {
   "cell_type": "code",
   "execution_count": 30,
   "id": "517f9994",
   "metadata": {},
   "outputs": [],
   "source": [
    "data.loc[data['v1']=='spam', 'v1',]=0     # spam as 0\n",
    "data.loc[data['v1']=='ham', 'v1',]=1     # ham as 1"
   ]
  },
  {
   "cell_type": "code",
   "execution_count": 31,
   "id": "340c9012",
   "metadata": {},
   "outputs": [
    {
     "data": {
      "text/html": [
       "<div>\n",
       "<style scoped>\n",
       "    .dataframe tbody tr th:only-of-type {\n",
       "        vertical-align: middle;\n",
       "    }\n",
       "\n",
       "    .dataframe tbody tr th {\n",
       "        vertical-align: top;\n",
       "    }\n",
       "\n",
       "    .dataframe thead th {\n",
       "        text-align: right;\n",
       "    }\n",
       "</style>\n",
       "<table border=\"1\" class=\"dataframe\">\n",
       "  <thead>\n",
       "    <tr style=\"text-align: right;\">\n",
       "      <th></th>\n",
       "      <th>v1</th>\n",
       "      <th>v2</th>\n",
       "    </tr>\n",
       "  </thead>\n",
       "  <tbody>\n",
       "    <tr>\n",
       "      <th>0</th>\n",
       "      <td>1</td>\n",
       "      <td>Go until jurong point, crazy.. Available only ...</td>\n",
       "    </tr>\n",
       "    <tr>\n",
       "      <th>1</th>\n",
       "      <td>1</td>\n",
       "      <td>Ok lar... Joking wif u oni...</td>\n",
       "    </tr>\n",
       "    <tr>\n",
       "      <th>2</th>\n",
       "      <td>0</td>\n",
       "      <td>Free entry in 2 a wkly comp to win FA Cup fina...</td>\n",
       "    </tr>\n",
       "    <tr>\n",
       "      <th>3</th>\n",
       "      <td>1</td>\n",
       "      <td>U dun say so early hor... U c already then say...</td>\n",
       "    </tr>\n",
       "    <tr>\n",
       "      <th>4</th>\n",
       "      <td>1</td>\n",
       "      <td>Nah I don't think he goes to usf, he lives aro...</td>\n",
       "    </tr>\n",
       "  </tbody>\n",
       "</table>\n",
       "</div>"
      ],
      "text/plain": [
       "  v1                                                 v2\n",
       "0  1  Go until jurong point, crazy.. Available only ...\n",
       "1  1                      Ok lar... Joking wif u oni...\n",
       "2  0  Free entry in 2 a wkly comp to win FA Cup fina...\n",
       "3  1  U dun say so early hor... U c already then say...\n",
       "4  1  Nah I don't think he goes to usf, he lives aro..."
      ]
     },
     "execution_count": 31,
     "metadata": {},
     "output_type": "execute_result"
    }
   ],
   "source": [
    "data.head()    # we can see encoding in df"
   ]
  },
  {
   "cell_type": "code",
   "execution_count": 32,
   "id": "2cd2b631",
   "metadata": {},
   "outputs": [],
   "source": [
    "# seperating the data as texts and labels\n",
    "\n",
    "X = data['v2']      # independant variable\n",
    "y = data['v1']      # target column, i.e dependant variable"
   ]
  },
  {
   "cell_type": "code",
   "execution_count": 33,
   "id": "28c52cee",
   "metadata": {},
   "outputs": [
    {
     "data": {
      "text/plain": [
       "0       Go until jurong point, crazy.. Available only ...\n",
       "1                           Ok lar... Joking wif u oni...\n",
       "2       Free entry in 2 a wkly comp to win FA Cup fina...\n",
       "3       U dun say so early hor... U c already then say...\n",
       "4       Nah I don't think he goes to usf, he lives aro...\n",
       "                              ...                        \n",
       "5567    This is the 2nd time we have tried 2 contact u...\n",
       "5568                Will Ì_ b going to esplanade fr home?\n",
       "5569    Pity, * was in mood for that. So...any other s...\n",
       "5570    The guy did some bitching but I acted like i'd...\n",
       "5571                           Rofl. Its true to its name\n",
       "Name: v2, Length: 5572, dtype: object"
      ]
     },
     "execution_count": 33,
     "metadata": {},
     "output_type": "execute_result"
    }
   ],
   "source": [
    "print(X)"
   ]
  },
  {
   "cell_type": "code",
   "execution_count": 34,
   "id": "ae4e51e3",
   "metadata": {},
   "outputs": [
    {
     "data": {
      "text/plain": [
       "0       1\n",
       "1       1\n",
       "2       0\n",
       "3       1\n",
       "4       1\n",
       "       ..\n",
       "5567    0\n",
       "5568    1\n",
       "5569    1\n",
       "5570    1\n",
       "5571    1\n",
       "Name: v1, Length: 5572, dtype: object"
      ]
     },
     "execution_count": 34,
     "metadata": {},
     "output_type": "execute_result"
    }
   ],
   "source": [
    "print(y)"
   ]
  },
  {
   "cell_type": "code",
   "execution_count": 36,
   "id": "c6707cf4",
   "metadata": {},
   "outputs": [],
   "source": [
    "#  data split in train and test\n",
    "\n",
    "Xtrain,Xtest, ytrain, ytest = train_test_split(X,y, test_size=0.2, random_state=2)    # 20% data for testing purpose"
   ]
  },
  {
   "cell_type": "code",
   "execution_count": 37,
   "id": "397518fd",
   "metadata": {},
   "outputs": [
    {
     "name": "stdout",
     "output_type": "stream",
     "text": [
      "3890    No problem. We will be spending a lot of quali...\n",
      "5553                          Hahaha..use your brain dear\n",
      "4366    I like dis sweater fr mango but no more my siz...\n",
      "3968    Thanks for your message. I really appreciate y...\n",
      "3771                Does uncle timi help in clearing cars\n",
      "                              ...                        \n",
      "3335                         Then u go back urself lor...\n",
      "1099    Been up to ne thing interesting. Did you have ...\n",
      "2514        Ok ill send you with in  &lt;DECIMAL&gt;  ok.\n",
      "3606                         I have no idea where you are\n",
      "2575                 Now thats going to ruin your thesis!\n",
      "Name: v2, Length: 4457, dtype: object\n"
     ]
    }
   ],
   "source": [
    "print(Xtrain)"
   ]
  },
  {
   "cell_type": "code",
   "execution_count": 39,
   "id": "59b30436",
   "metadata": {},
   "outputs": [
    {
     "name": "stdout",
     "output_type": "stream",
     "text": [
      "(5572,)\n",
      "(4457,)\n",
      "(1115,)\n"
     ]
    }
   ],
   "source": [
    "# Check shape of main df and splited df\n",
    "\n",
    "print(X.shape)\n",
    "print(Xtrain.shape)\n",
    "print(Xtest.shape)"
   ]
  },
  {
   "cell_type": "markdown",
   "id": "29274b2a",
   "metadata": {},
   "source": [
    "#### convert text data into meaningful \n",
    "#### Feature extraction"
   ]
  },
  {
   "cell_type": "code",
   "execution_count": 41,
   "id": "a47e787b",
   "metadata": {},
   "outputs": [],
   "source": [
    "feature_extraction = TfidfVectorizer(min_df=1, stop_words='english', lowercase = 'True')   \n",
    "\n",
    "# min_df is score by vectorizer to the words  "
   ]
  },
  {
   "cell_type": "code",
   "execution_count": 44,
   "id": "c548d0d2",
   "metadata": {},
   "outputs": [],
   "source": [
    "# fit TfidfVectorizer on train and test data, to convert into numerical\n",
    "\n",
    "Xtrain_features = feature_extraction.fit_transform(Xtrain)\n",
    "\n",
    "Xtest_features = feature_extraction.transform(Xtest)"
   ]
  },
  {
   "cell_type": "code",
   "execution_count": 42,
   "id": "13e835db",
   "metadata": {},
   "outputs": [],
   "source": [
    "# convert ytrain and ytest values/datatypes to integers\n",
    "\n",
    "ytrain = ytrain.astype('int')\n",
    "ytest = ytest.astype('int')"
   ]
  },
  {
   "cell_type": "code",
   "execution_count": 50,
   "id": "f8a922e8",
   "metadata": {},
   "outputs": [
    {
     "name": "stdout",
     "output_type": "stream",
     "text": [
      "  (0, 6566)\t0.29071829686789585\n",
      "  (0, 5260)\t0.5087678982336444\n",
      "  (0, 4010)\t0.4050685955975014\n",
      "  (0, 6073)\t0.5665799184805557\n",
      "  (0, 5169)\t0.4141795823412651\n",
      "  (1, 2116)\t0.3523355719340784\n",
      "  (1, 1423)\t0.5940444343697558\n",
      "  (1, 6859)\t0.4124100686677272\n",
      "  (1, 3141)\t0.5940444343697558\n",
      "  (2, 3565)\t0.40508027557608417\n",
      "  (2, 5897)\t0.440107047813195\n",
      "  (2, 4140)\t0.440107047813195\n",
      "  (2, 2845)\t0.3382880530026162\n",
      "  (2, 6332)\t0.440107047813195\n",
      "  (2, 2258)\t0.3104925886287087\n",
      "  (2, 3910)\t0.20972094634778068\n",
      "  (3, 2105)\t0.17893490557083572\n",
      "  (3, 7191)\t0.2812743655569581\n",
      "  (3, 1763)\t0.2431679156261037\n",
      "  (3, 6620)\t0.2114722422733664\n",
      "  (3, 6461)\t0.2757210982911898\n",
      "  (3, 7045)\t0.20776132213481782\n",
      "  (3, 4865)\t0.26062868324883703\n",
      "  (3, 2251)\t0.2952674814882996\n",
      "  (3, 5175)\t0.3101007821209402\n",
      "  :\t:\n",
      "  (4451, 4355)\t0.5653315538937795\n",
      "  (4452, 6856)\t0.8442476281269602\n",
      "  (4452, 4003)\t0.5359533024452802\n",
      "  (4453, 7234)\t0.3927126429320925\n",
      "  (4453, 4634)\t0.3513960490954625\n",
      "  (4453, 4498)\t0.36145784624804855\n",
      "  (4453, 3531)\t0.343174962220219\n",
      "  (4453, 6804)\t0.343174962220219\n",
      "  (4453, 2219)\t0.22106589098767157\n",
      "  (4453, 6140)\t0.2989482528799608\n",
      "  (4453, 1308)\t0.28066536885213117\n",
      "  (4453, 6604)\t0.20345602154604067\n",
      "  (4453, 3041)\t0.18713644220806608\n",
      "  (4453, 6514)\t0.250359894393495\n",
      "  (4454, 3438)\t0.41832618559604146\n",
      "  (4454, 4681)\t0.5748166128556557\n",
      "  (4454, 5726)\t0.31680901774368153\n",
      "  (4454, 2126)\t0.46344991793045925\n",
      "  (4454, 3108)\t0.2995290335479616\n",
      "  (4454, 4045)\t0.2995290335479616\n",
      "  (4455, 3416)\t1.0\n",
      "  (4456, 6508)\t0.6008815846567301\n",
      "  (4456, 5576)\t0.6008815846567301\n",
      "  (4456, 6492)\t0.4171566994855619\n",
      "  (4456, 3032)\t0.3222777226479457\n"
     ]
    }
   ],
   "source": [
    "print(Xtrain_features)     # coverted to numerical"
   ]
  },
  {
   "cell_type": "markdown",
   "id": "dee4e530",
   "metadata": {},
   "source": [
    "## 3. Train Model - Logistic Regeression"
   ]
  },
  {
   "cell_type": "code",
   "execution_count": 51,
   "id": "acbf32bd",
   "metadata": {},
   "outputs": [
    {
     "data": {
      "text/html": [
       "<style>#sk-container-id-1 {color: black;background-color: white;}#sk-container-id-1 pre{padding: 0;}#sk-container-id-1 div.sk-toggleable {background-color: white;}#sk-container-id-1 label.sk-toggleable__label {cursor: pointer;display: block;width: 100%;margin-bottom: 0;padding: 0.3em;box-sizing: border-box;text-align: center;}#sk-container-id-1 label.sk-toggleable__label-arrow:before {content: \"▸\";float: left;margin-right: 0.25em;color: #696969;}#sk-container-id-1 label.sk-toggleable__label-arrow:hover:before {color: black;}#sk-container-id-1 div.sk-estimator:hover label.sk-toggleable__label-arrow:before {color: black;}#sk-container-id-1 div.sk-toggleable__content {max-height: 0;max-width: 0;overflow: hidden;text-align: left;background-color: #f0f8ff;}#sk-container-id-1 div.sk-toggleable__content pre {margin: 0.2em;color: black;border-radius: 0.25em;background-color: #f0f8ff;}#sk-container-id-1 input.sk-toggleable__control:checked~div.sk-toggleable__content {max-height: 200px;max-width: 100%;overflow: auto;}#sk-container-id-1 input.sk-toggleable__control:checked~label.sk-toggleable__label-arrow:before {content: \"▾\";}#sk-container-id-1 div.sk-estimator input.sk-toggleable__control:checked~label.sk-toggleable__label {background-color: #d4ebff;}#sk-container-id-1 div.sk-label input.sk-toggleable__control:checked~label.sk-toggleable__label {background-color: #d4ebff;}#sk-container-id-1 input.sk-hidden--visually {border: 0;clip: rect(1px 1px 1px 1px);clip: rect(1px, 1px, 1px, 1px);height: 1px;margin: -1px;overflow: hidden;padding: 0;position: absolute;width: 1px;}#sk-container-id-1 div.sk-estimator {font-family: monospace;background-color: #f0f8ff;border: 1px dotted black;border-radius: 0.25em;box-sizing: border-box;margin-bottom: 0.5em;}#sk-container-id-1 div.sk-estimator:hover {background-color: #d4ebff;}#sk-container-id-1 div.sk-parallel-item::after {content: \"\";width: 100%;border-bottom: 1px solid gray;flex-grow: 1;}#sk-container-id-1 div.sk-label:hover label.sk-toggleable__label {background-color: #d4ebff;}#sk-container-id-1 div.sk-serial::before {content: \"\";position: absolute;border-left: 1px solid gray;box-sizing: border-box;top: 0;bottom: 0;left: 50%;z-index: 0;}#sk-container-id-1 div.sk-serial {display: flex;flex-direction: column;align-items: center;background-color: white;padding-right: 0.2em;padding-left: 0.2em;position: relative;}#sk-container-id-1 div.sk-item {position: relative;z-index: 1;}#sk-container-id-1 div.sk-parallel {display: flex;align-items: stretch;justify-content: center;background-color: white;position: relative;}#sk-container-id-1 div.sk-item::before, #sk-container-id-1 div.sk-parallel-item::before {content: \"\";position: absolute;border-left: 1px solid gray;box-sizing: border-box;top: 0;bottom: 0;left: 50%;z-index: -1;}#sk-container-id-1 div.sk-parallel-item {display: flex;flex-direction: column;z-index: 1;position: relative;background-color: white;}#sk-container-id-1 div.sk-parallel-item:first-child::after {align-self: flex-end;width: 50%;}#sk-container-id-1 div.sk-parallel-item:last-child::after {align-self: flex-start;width: 50%;}#sk-container-id-1 div.sk-parallel-item:only-child::after {width: 0;}#sk-container-id-1 div.sk-dashed-wrapped {border: 1px dashed gray;margin: 0 0.4em 0.5em 0.4em;box-sizing: border-box;padding-bottom: 0.4em;background-color: white;}#sk-container-id-1 div.sk-label label {font-family: monospace;font-weight: bold;display: inline-block;line-height: 1.2em;}#sk-container-id-1 div.sk-label-container {text-align: center;}#sk-container-id-1 div.sk-container {/* jupyter's `normalize.less` sets `[hidden] { display: none; }` but bootstrap.min.css set `[hidden] { display: none !important; }` so we also need the `!important` here to be able to override the default hidden behavior on the sphinx rendered scikit-learn.org. See: https://github.com/scikit-learn/scikit-learn/issues/21755 */display: inline-block !important;position: relative;}#sk-container-id-1 div.sk-text-repr-fallback {display: none;}</style><div id=\"sk-container-id-1\" class=\"sk-top-container\"><div class=\"sk-text-repr-fallback\"><pre>LogisticRegression()</pre><b>In a Jupyter environment, please rerun this cell to show the HTML representation or trust the notebook. <br />On GitHub, the HTML representation is unable to render, please try loading this page with nbviewer.org.</b></div><div class=\"sk-container\" hidden><div class=\"sk-item\"><div class=\"sk-estimator sk-toggleable\"><input class=\"sk-toggleable__control sk-hidden--visually\" id=\"sk-estimator-id-1\" type=\"checkbox\" checked><label for=\"sk-estimator-id-1\" class=\"sk-toggleable__label sk-toggleable__label-arrow\">LogisticRegression</label><div class=\"sk-toggleable__content\"><pre>LogisticRegression()</pre></div></div></div></div></div>"
      ],
      "text/plain": [
       "LogisticRegression()"
      ]
     },
     "execution_count": 51,
     "metadata": {},
     "output_type": "execute_result"
    }
   ],
   "source": [
    "\n",
    "\n",
    "model = LogisticRegression()\n",
    "model.fit(Xtrain_features, ytrain)"
   ]
  },
  {
   "cell_type": "markdown",
   "id": "76ca21b8",
   "metadata": {},
   "source": [
    "### 4. model evaluate"
   ]
  },
  {
   "cell_type": "code",
   "execution_count": 53,
   "id": "f02e302a",
   "metadata": {},
   "outputs": [
    {
     "name": "stdout",
     "output_type": "stream",
     "text": [
      "accuracy on train data is : 0.971729863136639\n"
     ]
    }
   ],
   "source": [
    "# train data prediction\n",
    "\n",
    "train_pred = model.predict(Xtrain_features)\n",
    "train_accuracy = accuracy_score(ytrain, train_pred)\n",
    "\n",
    "print('accuracy on train data is :' ,train_accuracy)"
   ]
  },
  {
   "cell_type": "code",
   "execution_count": 54,
   "id": "4ed9c202",
   "metadata": {},
   "outputs": [
    {
     "name": "stdout",
     "output_type": "stream",
     "text": [
      "accuracy on train data is : 0.9560538116591928\n"
     ]
    }
   ],
   "source": [
    "# test data prediction\n",
    "\n",
    "test_pred = model.predict(Xtest_features)\n",
    "test_accuracy = accuracy_score(ytest, test_pred)\n",
    "\n",
    "print('accuracy on train data is :' ,test_accuracy)"
   ]
  },
  {
   "cell_type": "markdown",
   "id": "16eb681b",
   "metadata": {},
   "source": [
    "### 5. Building predictive system"
   ]
  },
  {
   "cell_type": "code",
   "execution_count": 56,
   "id": "257f028a",
   "metadata": {},
   "outputs": [],
   "source": [
    "input_mail = [\"Oh k...i'm watching here:)\"]"
   ]
  },
  {
   "cell_type": "code",
   "execution_count": 59,
   "id": "a42030d9",
   "metadata": {},
   "outputs": [
    {
     "name": "stdout",
     "output_type": "stream",
     "text": [
      "[1]\n",
      "It is an Ham mail\n"
     ]
    }
   ],
   "source": [
    "# convert text to feature vectors\n",
    "\n",
    "input_data_features = feature_extraction.transform(input_mail)\n",
    "\n",
    "# making prediction\n",
    "\n",
    "predict = model.predict(input_data_features)\n",
    "\n",
    "print(predict)\n",
    "\n",
    "if (predict[0] == 1):\n",
    "    print('It is an Ham mail')\n",
    "else:\n",
    "    print('It is an spam mail')"
   ]
  },
  {
   "cell_type": "code",
   "execution_count": null,
   "id": "50889fed",
   "metadata": {},
   "outputs": [],
   "source": []
  }
 ],
 "metadata": {
  "kernelspec": {
   "display_name": "Python 3 (ipykernel)",
   "language": "python",
   "name": "python3"
  },
  "language_info": {
   "codemirror_mode": {
    "name": "ipython",
    "version": 3
   },
   "file_extension": ".py",
   "mimetype": "text/x-python",
   "name": "python",
   "nbconvert_exporter": "python",
   "pygments_lexer": "ipython3",
   "version": "3.9.7"
  }
 },
 "nbformat": 4,
 "nbformat_minor": 5
}
